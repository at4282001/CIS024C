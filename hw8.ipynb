{
 "cells": [
  {
   "cell_type": "markdown",
   "metadata": {},
   "source": [
    "\n",
    "# CIS024C - Fall 2017 - Thursday 5:30-9:25pm \n",
    "\n",
    "## Homework 8\n",
    "\n",
    "Homework 8 covers exercises that using external libraries and creating user defined libraries\n",
    "\n",
    "The below sites have some interesting and useful information on working with files\n",
    "\n",
    "https://docs.python.org/2/library/index.html\n",
    "\n",
    "You will need to download this notebook and use this as a starting point for your homework. You will just need to fill in the content of each code-block (cell) and execute. Once you have completed all the exercises, you will need to save and upload this to your github repository under a folder called hw7.\n",
    "\n",
    "Note also the exercises build on top of one another so you might be able to do the next exercise if you have not completed the previous exercise.\n",
    "\n",
    "Post any questions you have on our Slack at **cis-024c1.slack.com**\n",
    "\n",
    "** Slides ** for Week 8 can be found at \n",
    "\n",
    "https://docs.google.com/presentation/d/1HcWIuVciM0_L935Umi5rPgQHJYIv1bNfYnErfOelbtw/edit?usp=sharing\n",
    "\n",
    "**Please refer back to hw1 and slack for instructions on how to setup your computer for developing using Python.**"
   ]
  },
  {
   "cell_type": "markdown",
   "metadata": {},
   "source": [
    "### Helpful Jupyter Commands\n",
    "\n",
    "Below are some useful commands to know when using Jupyter\n",
    "\n",
    "1. You can add a new cell by clicking on the \"+\" icon on top.\n",
    "2. You can delete a cell by selecting that cell and clicking on the \"scissors\" icon on top.\n",
    "3. You can execute a cell by either pressing shift+enter or selecting the \"play\" button on top.\n",
    "4. You can create a new file in Jupyter via the File menu->New Notebook option. Make sure to select Python 2 when creating your notebook.\n",
    "5. Also, for your code blocks make sure that Code is selected instead of another option like Markdown.\n",
    "6. Use the Enter key to go to the next line in a cell to enter the next statement.\n",
    "7. You can clear results by clicking on the Cell menu item and selecting Current Output->Clear or All Output->Clear depending on whether you are trying to just clear the output for one cell or for all cells.\n",
    "8. In case your program has crashed for some reason (infinite loop, for example), you can restart your Python session by select Kernel in the menu and selecting Restart.\n"
   ]
  },
  {
   "cell_type": "markdown",
   "metadata": {},
   "source": [
    "#### Check Python Version"
   ]
  },
  {
   "cell_type": "code",
   "execution_count": null,
   "metadata": {},
   "outputs": [],
   "source": [
    "!python --version"
   ]
  },
  {
   "cell_type": "markdown",
   "metadata": {},
   "source": [
    "#### Sample Exercises with Exception Handling\n",
    "\n",
    "Week 8 Class Work can be found here\n",
    "\n",
    "https://github.com/cis024c/fall2017classwork/tree/master/week8"
   ]
  },
  {
   "cell_type": "markdown",
   "metadata": {},
   "source": [
    "**Exercise 1 - Testing your knowledge of External Libraries **\n",
    "\n",
    "Answer the below questions\n",
    "\n",
    "1. Name two benefits of using external libraries.\n",
    "2. What are the different ways of including an external library in a Python program?"
   ]
  },
  {
   "cell_type": "markdown",
   "metadata": {},
   "source": [
    "1) call external libraries so that the program not clutch also make it shorter\n",
    "2) import, from"
   ]
  },
  {
   "cell_type": "markdown",
   "metadata": {},
   "source": [
    "#### Exercise 2 -  Using the math library\n",
    "\n",
    "Import the math library in your program and do the following\n",
    "\n",
    "1. Request the user to enter a number between 1 and 10\n",
    "2. Compute the log (math.log) of the number\n",
    "3. Compute teh factorial (math.factorial) of the number\n",
    "4. Compute the square root (math.sqrt) of the number\n",
    "5. Compute the sine (math.sin) of the number\n",
    "\n",
    "Refer to https://docs.python.org/2/library/math.html for more information on the math library\n"
   ]
  },
  {
   "cell_type": "code",
   "execution_count": 1,
   "metadata": {},
   "outputs": [
    {
     "name": "stdout",
     "output_type": "stream",
     "text": [
      "Please enter a number between 1 and 10: 4\n",
      "2.00\n",
      "Compute the factorial (math.factorial)\n",
      "24.00\n",
      "Compute the square root (math.sqrt)\n",
      "2.00\n",
      "Compute the sine (math.sin)\n",
      "-0.76\n"
     ]
    }
   ],
   "source": [
    "### YOUR CODE GOES \n",
    "import math\n",
    "\n",
    "def mathLog(userNum):\n",
    "    print \"%.2f\" % math.log(userNum,2)\n",
    "\n",
    "def mathFac(userNum):\n",
    "    print \"Compute the factorial (math.factorial)\"\n",
    "    print \"%.2f\" % math.factorial(userNum)\n",
    "\n",
    "def mathSq(userNum):\n",
    "    print \"Compute the square root (math.sqrt)\"\n",
    "    print \"%.2f\" % math.sqrt(userNum)\n",
    "\n",
    "def mathSin(userNum):\n",
    "    print \"Compute the sine (math.sin)\"\n",
    "    print \"%.2f\" % math.sin(userNum)\n",
    "        \n",
    "\n",
    "userNum = int(raw_input(\"Please enter a number between 1 and 10: \"))\n",
    "\n",
    "mathLog(userNum)\n",
    "mathFac(userNum)\n",
    "mathSq(userNum)\n",
    "mathSin(userNum)\n",
    "### END CODE"
   ]
  },
  {
   "cell_type": "markdown",
   "metadata": {},
   "source": [
    "#### Exercise 3 - Random numbers\n",
    "\n",
    "Generate a list of 10 random numbers between 1 and 100. Use random.sample function. Write a program to then sort the list of numbers in ascending order."
   ]
  },
  {
   "cell_type": "code",
   "execution_count": 2,
   "metadata": {},
   "outputs": [
    {
     "name": "stdout",
     "output_type": "stream",
     "text": [
      "Compute the random number\n",
      "[10, 21, 22, 25, 38, 48, 63, 71, 73, 77]\n"
     ]
    }
   ],
   "source": [
    "### YOUR CODE GOES BELOW\n",
    "import random\n",
    "    \n",
    "def myRandom():\n",
    "    r=[]\n",
    "    print \"Compute the random number\"\n",
    "    for i in range (10):\n",
    "        r += random.randrange(1, 100),\n",
    "    print sorted(r)     \n",
    "    \n",
    "myRandom()        \n",
    "### END CODE"
   ]
  },
  {
   "cell_type": "code",
   "execution_count": null,
   "metadata": {},
   "outputs": [],
   "source": [
    "!python random1.py\n"
   ]
  },
  {
   "cell_type": "markdown",
   "metadata": {},
   "source": [
    "#### Exercise 4 - Creating your own library\n",
    "\n",
    "Create a python module **helperfunctions.py** with the following functions.\n",
    "\n",
    "1. add - returns the sum of two numbers\n",
    "2. diff - returns the difference between two numbers\n",
    "3. product - returns the product of two numbers\n",
    "4. greatest - returns the greatest of two numbers.\n",
    "\n",
    "Import this module in your python program and use the functions your created on any two numbers and print the result.\n",
    "\n",
    "Note: Upload the **helperfunctions.py** module to your github folder along with the notebook file. You can also upload **helperfunctions.py** to Canvas if you are having trouble copying it to Github"
   ]
  },
  {
   "cell_type": "code",
   "execution_count": 3,
   "metadata": {},
   "outputs": [
    {
     "name": "stdout",
     "output_type": "stream",
     "text": [
      "Add 2 number: 2 3\n",
      "5\n",
      "Diff 2 number: 2 3\n",
      "-1\n",
      "Product 2 number: 2 3\n",
      "6\n",
      "Greatest 2 number: 2 3\n",
      "3\n"
     ]
    }
   ],
   "source": [
    "### YOUR CODE GOES BELOW\n",
    "import helperfunctions\n",
    "\n",
    "print helperfunctions.myAdd(2,3)\n",
    "print helperfunctions.myDif(2,3)\n",
    "print helperfunctions.myPro(2,3)\n",
    "print helperfunctions.myGreatest(2,3)\n",
    "\n",
    "### END CODE"
   ]
  },
  {
   "cell_type": "markdown",
   "metadata": {},
   "source": [
    "#### Exercise 5 - Compressing a file using the zlib library\n",
    "\n",
    "Download the story Alice in Wonderland from the link below http://www.gutenberg.org/files/11/11.txt and save it as the file alice.txt\n",
    "\n",
    "Write a python program to open this file in your program. Use the zlib library to compress the contents of the file and write it back to another file call alice_compressed.txt\n",
    "\n",
    "Now, open the file alice_compressed.txt, decompress using the zlib library and display the results on the screen.\n",
    "\n",
    "Refer to Week 8 lecture slides and classwork for information on how to use zlib. \n"
   ]
  },
  {
   "cell_type": "code",
   "execution_count": 4,
   "metadata": {},
   "outputs": [
    {
     "name": "stdout",
     "output_type": "stream",
     "text": [
      "('python', '2.7.13 |Anaconda 4.4.0 (64-bit)| (default, May 11 2017, 13:17:26) [MSC v.1500 64 bit (AMD64)]')\n",
      "('zlib version', '1.2.8')\n"
     ]
    },
    {
     "ename": "error",
     "evalue": "Error -3 while decompressing data: invalid distance too far back",
     "output_type": "error",
     "traceback": [
      "\u001b[1;31m---------------------------------------------------------------------------\u001b[0m",
      "\u001b[1;31merror\u001b[0m                                     Traceback (most recent call last)",
      "\u001b[1;32m<ipython-input-4-3b12ac8b9482>\u001b[0m in \u001b[0;36m<module>\u001b[1;34m()\u001b[0m\n\u001b[0;32m     19\u001b[0m \u001b[1;33m\u001b[0m\u001b[0m\n\u001b[0;32m     20\u001b[0m \u001b[0mmyCompress\u001b[0m\u001b[1;33m(\u001b[0m\u001b[1;33m)\u001b[0m\u001b[1;33m\u001b[0m\u001b[0m\n\u001b[1;32m---> 21\u001b[1;33m \u001b[0mmyDeCompress\u001b[0m\u001b[1;33m(\u001b[0m\u001b[1;33m)\u001b[0m\u001b[1;33m\u001b[0m\u001b[0m\n\u001b[0m\u001b[0;32m     22\u001b[0m \u001b[1;33m\u001b[0m\u001b[0m\n\u001b[0;32m     23\u001b[0m \u001b[1;32mprint\u001b[0m \u001b[1;34m\"Finish-program do out put a compress file but not able to unzip - something wrong\"\u001b[0m\u001b[1;33m\u001b[0m\u001b[0m\n",
      "\u001b[1;32m<ipython-input-4-3b12ac8b9482>\u001b[0m in \u001b[0;36mmyDeCompress\u001b[1;34m()\u001b[0m\n\u001b[0;32m     16\u001b[0m \u001b[1;32mdef\u001b[0m \u001b[0mmyDeCompress\u001b[0m\u001b[1;33m(\u001b[0m\u001b[1;33m)\u001b[0m\u001b[1;33m:\u001b[0m\u001b[1;33m\u001b[0m\u001b[0m\n\u001b[0;32m     17\u001b[0m     \u001b[0mmySourcefile\u001b[0m \u001b[1;33m=\u001b[0m \u001b[0mopen\u001b[0m\u001b[1;33m(\u001b[0m\u001b[1;34m'alice_compressed.zip'\u001b[0m\u001b[1;33m,\u001b[0m \u001b[1;34m'rb'\u001b[0m\u001b[1;33m)\u001b[0m\u001b[1;33m.\u001b[0m\u001b[0mread\u001b[0m\u001b[1;33m(\u001b[0m\u001b[1;33m)\u001b[0m\u001b[1;33m\u001b[0m\u001b[0m\n\u001b[1;32m---> 18\u001b[1;33m     \u001b[0mmyTargetZip\u001b[0m \u001b[1;33m=\u001b[0m \u001b[0mzlib\u001b[0m\u001b[1;33m.\u001b[0m\u001b[0mdecompress\u001b[0m\u001b[1;33m(\u001b[0m\u001b[0mmySourcefile\u001b[0m\u001b[1;33m)\u001b[0m\u001b[1;33m\u001b[0m\u001b[0m\n\u001b[0m\u001b[0;32m     19\u001b[0m \u001b[1;33m\u001b[0m\u001b[0m\n\u001b[0;32m     20\u001b[0m \u001b[0mmyCompress\u001b[0m\u001b[1;33m(\u001b[0m\u001b[1;33m)\u001b[0m\u001b[1;33m\u001b[0m\u001b[0m\n",
      "\u001b[1;31merror\u001b[0m: Error -3 while decompressing data: invalid distance too far back"
     ]
    }
   ],
   "source": [
    "### YOUR CODE GOES BELOW\n",
    "import sys, zlib\n",
    "\n",
    "print(\"python\", sys.version)\n",
    "print(\"zlib version\", zlib.ZLIB_VERSION)\n",
    "    \n",
    "def myCompress():\n",
    "    with open('alice.txt', 'r') as tempfile:\n",
    "        wholeFile = tempfile.read()\n",
    "        myTargetZip = zlib.compress(wholeFile)\n",
    "\n",
    "        f=open('alice_compressed.zip','w')\n",
    "        f.write(myTargetZip)\n",
    "        f.close() \n",
    "\n",
    "def myDeCompress():\n",
    "    mySourcefile = open('alice_compressed.zip', 'rb').read()\n",
    "    myTargetZip = zlib.decompress(mySourcefile)\n",
    "\n",
    "myCompress()\n",
    "myDeCompress()\n",
    "\n",
    "print \"Finish-program do out put a compress file but not able to unzip - something wrong\"\n",
    "\n",
    "#https://bugs.python.org/issue27164\n",
    "#    mySourcefile = open('alice.txt', 'r').read()\n",
    "#zlib.decompress(alice_compressed.txt.zip, zlib.MAX_WBITS)\n",
    "### END CODE"
   ]
  },
  {
   "cell_type": "markdown",
   "metadata": {},
   "source": [
    "## OPTIONAL EXERCISES\n",
    "\n",
    "Below is a set of optional exercises. These will not be graded but the solutions will be posted. I would strongly encourage you to try these out if you are done with the mandatory homework exercises to improve your understanding of python."
   ]
  },
  {
   "cell_type": "markdown",
   "metadata": {},
   "source": [
    "#### Exercise 6\n",
    "\n",
    "Recall the similarity function to compute the edit distance in homework 7 and classwork 7. \n",
    "\n",
    "Create a Python module using the similarity function. Write a Python program to invoke the similarity function on any word entered by the user."
   ]
  },
  {
   "cell_type": "code",
   "execution_count": null,
   "metadata": {
    "collapsed": true
   },
   "outputs": [],
   "source": [
    "### YOUR CODE GOES BELOW\n",
    "\n",
    "\n",
    "    \n",
    "### END CODE"
   ]
  },
  {
   "cell_type": "markdown",
   "metadata": {},
   "source": [
    "#### Exercise 7\n",
    "\n",
    "Write a Python program using the urrlib2 library to print all the URLs present on the website http://www.cnn.com\n",
    "\n",
    "Note that you will need to search for href tags in order to locate links. An easier option is to use an HTML parser module to parse the website and then you can query it for a set of links. \n",
    "\n"
   ]
  },
  {
   "cell_type": "code",
   "execution_count": 20,
   "metadata": {},
   "outputs": [
    {
     "name": "stdout",
     "output_type": "stream",
     "text": [
      "['content=\"\n",
      "http://www.cnn.com\"', 'content=\"\n",
      "http://www.cnn.com\"><link', 'href=\"\n",
      "http://www.cnn.com\"', 'href=\"\n",
      "http://www.cnn.com\"', 'href=\"\n",
      "http://edition.cnn.com\"', 'href=\"\n",
      "http://edition.cnn.com\"', 'href=\"\n",
      "http://www.cnn.com\"><link', 'href=\"\n",
      "https://plus.google.com/+cnn/posts\"', 'href=\"android-app://com.cnn.mobile.android.phone/\n",
      "http/www.cnn.com\"', 'href=\"\n",
      "http://segment-data-us-east.zqtk.net/turner-47fcf6\"', 'href=\"\n",
      "http://www.cnn.com/css/2.48.1/global.css\"><link', 'href=\"\n",
      "http://www.cnn.com/css/2.48.1/pages/page.css\"><script>if', '\"\n",
      "http://go.cnn.com/?stream=\";CNN.DemandLoadConfig', 'instructions.\\\\u003c/a>\"},\"goSmartLink\":\"\n",
      "http://cnn.it/go\",\"helpLink\":\"//www.cnn.com/help\",\"persistentCta\":{\"cobrandingText\":\"In', '\"\n",
      "http://www.i.cdn.cnn.com/.a/2.48.1\",alt:', '\"\n",
      "http://www.cnn.com\",main:', '\"\n",
      "http://s3.amazonaws.com/cnn-sponsored-content\",protocol:', '\"\n",
      "http\",intl:', '\"\n",
      "http://edition.cnn.com\",nowPlaying:', '\"\n",
      "http://data.cnn.com\",us:', '\"\n",
      "http://us.cnn.com\",www:', '\"\n",
      "http://www.cnn.com\"};CNN.ImageBreakpoints', 'Newsletters\",\"selectedButtonText\":\"Added\",\"submitButtonText\":\"Subscribe\",\"submittedButtonText\":\"Submitted\",\"mailchimpUrl\":\"\n",
      "https://bulletin.cnn.com/api/v1/subscribe/\",\"confirmation\":{\"title\":\"Thanks', '{\"safari\":{\"webServiceURL\":\"\n",
      "https://alertshub.cnn.com/distributionhub\",\"websitePushID\":\"web.com.cnn.redalert\"}};CNN.adTimers', '\"\n",
      "http://searchapp.cnn.com/search/query.jsp\",searchUrl:', 'unfolds.\"},\"gigya\":{\"appId\":\"3_gtUbleJNtrRITgx-1mM_ci7GcIrH8xL9W_VfAbzSa4zpFrRwnpq_eYd8QTRkr7VC\",\"enableOnLeaf\":true,\"enableOnFirstZone\":true,\"shareStatsPostURL\":\"//actionevent.cnn.com/api/v1/event/addEvent\"},\"livefyre\":{\"key\":\"azjgDYu+5pGDaNSl4JUIDK/EqSU=\",\"mobileCommentsBaseUrl\":\"//cnn.bootstrap.fyre.co/api/v1.1/public/comments/ncomments/\",\"network\":\"cnn.fyre.co\",\"networkName\":\"cnn\",\"siteId\":353270,\"srcDomain\":\"//cdn.livefyre.com\",\"appembed\":\"app-embed#1.0.4\",\"timeLineModulePollInterval\":1,\"tokenEndpoint\":\"//login.cnn.com/services/livefyre/authtoken\",\"pingEndpoint\":\"//login.cnn.com/services/livefyre/pingforpull\"},\"msib\":{\"authUrl\":\"cnn-comments://livefyre/authentication\",\"baseUrl\":\"\n",
      "https://audience.cnn.com/services/cnn\",\"errorUrl\":\"cnn-comments://livefyre/error\",\"loginUrl\":\"cnn-comments://livefyre/login\"},\"whatsapp\":{\"baseUrl\":\"whatsapp://send?text=CNN', 'href=\\\\\"\n",
      "https://www.microsoft.com/en-us/download/details.aspx?id=48126\\\\\">Microsoft', '{\"api\":{\"loaderBaseURLFULLPATH\":\"//www.cnn.com/.element/widget/video/videoapi/api/\",\"loaderBaseURL\":\"/.element/widget/video/videoapi/api/\",\"loaderBaseURLLocal\":\"\n",
      "http://localhost.cnn.com:3000/build/api/\",\"useLegacyVideoLoader\":false,\"version\":\"latest\"},\"autoStartWhenCmsEnabled\":{\"enableSectionFronts\":true,\"mutePlayer\":true,\"rememberMutePlayerTime\":0},\"collection\":{\"playNextVideoTimeout\":1500,\"delayVideoCarousel\":true},\"goFreePreview\":{\"adobeEnvironment\":\"prod\",\"adobeSwfPath\":\"/.element/apps/cvp/3.0/swf/AccessEnablerLoader.swf\",\"aspenContext\":\"prev10\",\"endSlate\":{\"ctaText\":\"Sign', 'instructions.\\\\u003c/a>\"},\"goSmartLink\":\"\n",
      "http://cnn.it/go\",\"helpLink\":\"//www.cnn.com/help\",\"persistentCta\":{\"cobrandingText\":\"In', 'Available\",\"imageUrl\":\"//cdn.cnn.com/cnn/images/geoslate/02_presaddress_geoslate.png\"},\"flashSlate\":{\"enabled\":true,\"instructionsUrl\":\"\n",
      "https://get.adobe.com/flashplayer/\"},\"geoCheckEnabled\":true,\"geoCheckTargets\":[\"*\",\"-#AF\",\"-JP\",\"-MY\",\"-SH\",\"-TH\",\"-YT\"],\"pageRefreshTime\":360},\"mutedPlayer\":{\"startTime\":7,\"stopInterval\":30,\"stopTime\":23,\"timeZone\":\"America/New_York\"},\"embedLinks\":{\"clipboardOperationsSWF\":\"//cdn.cnn.com/cnn/video/assets/CNNVideoClipboardCopy.swf\",\"buttonImage\":\"{cdnassetpath}/assets/embed_video_button.png\",\"imageButtonXOffset\":0,\"imageButtonYOffset\":3,\"embedLinkPattern\":\"\\\\u003ciframe', 'href=\"\n",
      "http://money.cnn.com\"', 'href=\"\n",
      "http://money.cnn.com/technology\"', 'href=\"\n",
      "http://cnn.it/go2\"', 'data-value=\"\n",
      "http://us.cnn.com\">U.S.</div><div', 'data-value=\"\n",
      "http://edition.cnn.com\">International</div><div', 'data-value=\"\n",
      "http://arabic.cnn.com\">Arabic</div><div', 'data-value=\"\n",
      "http://cnnespanol.cnn.com/\">Espa\\xc3\\xb1ol</div></div><form', 'data-value=\"\n",
      "http://us.cnn.com\"/><span', 'data-value=\"\n",
      "http://edition.cnn.com\"/><span', 'data-value=\"\n",
      "http://us.cnn.com\">U.S.</div><div', 'data-value=\"\n",
      "http://edition.cnn.com\">International</div><div', 'data-value=\"\n",
      "http://arabic.cnn.com\">Arabic</div><div', 'data-value=\"\n",
      "http://cnnespanol.cnn.com/\">Espa\\xc3\\xb1ol</div></div><form', 'data-value=\"\n",
      "http://us.cnn.com\"/><span', 'data-value=\"\n",
      "http://edition.cnn.com\"/><span', 'href=\"\n",
      "http://money.cnn.com\"><img', 'href=\"\n",
      "http://money.cnn.com/data/markets/\">Markets</a></li><li', 'href=\"\n",
      "http://money.cnn.com/technology/\">Tech</a></li><li', 'href=\"\n",
      "http://money.cnn.com/media/\">Media</a></li><li', 'href=\"\n",
      "http://money.cnn.com/pf/\">Personal', 'href=\"\n",
      "http://money.cnn.com/luxury/\">Luxury</a></li></ul></div><div', 'href=\"\n",
      "http://money.cnn.com/media\">Media</a></li></ul></div><div', 'href=\"\n",
      "http://money.cnn.com/technology\"><img', 'href=\"\n",
      "http://money.cnn.com/technology/business\">Business</a></li><li', 'href=\"\n",
      "http://money.cnn.com/technology/culture\">Culture</a></li><li', 'href=\"\n",
      "http://money.cnn.com/technology/gadgets\">Gadgets</a></li><li', 'href=\"\n",
      "http://money.cnn.com/technology/future\">Future</a></li><li', 'href=\"\n",
      "http://money.cnn.com/technology/startups\">Startups</a></li></ul></div><div', 'href=\"\n",
      "https://www.turnerjobs.com/search-jobs?orgIds=1174&ac=19299\">Work', 'data-value=\"\n",
      "http://us.cnn.com\"><img', 'data-value=\"\n",
      "http://edition.cnn.com\"><img', 'data-value=\"\n",
      "http://cnnespanol.cnn.com/\"><img', 'data-value=\"\n",
      "http://arabic.cnn.com\"><img', 'data-value=\"\n",
      "http://us.cnn.com\"/><span', 'data-value=\"\n",
      "http://edition.cnn.com\"/><span', 'href=\"\n",
      "https://www.facebook.com/cnn\"', 'href=\"\n",
      "https://twitter.com/cnn\"', 'href=\"\n",
      "https://instagram.com/cnn\"', 'href=\\\\\"\n",
      "https://www.tcsnycmarathon.org/\\\\\"', 'href=\\\\\"\n",
      "http://www.cnn.com/profiles/anderson-cooper-profile\\\\\">', 'href=\\\\\"\n",
      "http://www.ncaa.com/news/football/article/2015-11-06/college-football-history-heres-when-1st-game-was-played\\\\\"', 'href=\\\\\"\n",
      "http://www.cnn.com/2017/11/01/entertainment/harvey-weinstein-james-toback-police/index.html\\\\\">accuse', '{\"apiEndpoint\":\"\n",
      "https://mailcar.cnn.com/api/v1/\"}', '\"\n",
      "http://www.cnn.com\"', '\"\n",
      "http://www.cnn.com\"', 'href=\"\n",
      "http://money.cnn.com\"', 'href=\"\n",
      "http://money.cnn.com/data/markets/\">Markets</a></li><li', 'href=\"\n",
      "http://money.cnn.com/technology/\">Tech</a></li><li', 'href=\"\n",
      "http://money.cnn.com/media/\">Media</a></li><li', 'href=\"\n",
      "http://money.cnn.com/pf/\">Personal', 'href=\"\n",
      "http://money.cnn.com/luxury/\">Luxury</a></li></ol></li></ol><ol', 'href=\"\n",
      "http://money.cnn.com/media\">Media</a></li></ol></li></ol><ol', 'href=\"\n",
      "http://money.cnn.com/technology\"', 'href=\"\n",
      "http://money.cnn.com/technology/business\">Business</a></li><li', 'href=\"\n",
      "http://money.cnn.com/technology/culture\">Culture</a></li><li', 'href=\"\n",
      "http://money.cnn.com/technology/gadgets\">Gadgets</a></li><li', 'href=\"\n",
      "http://money.cnn.com/technology/future\">Future</a></li><li', 'href=\"\n",
      "http://money.cnn.com/technology/startups\">Startups</a></li></ol></li></ol><ol', 'href=\"\n",
      "https://www.turnerjobs.com/search-jobs?orgIds=1174&amp;ac=19299\">Work', 'data-value=\"\n",
      "http://us.cnn.com\"><input', 'data-value=\"\n",
      "http://edition.cnn.com\"><input', 'data-value=\"\n",
      "http://us.cnn.com\">U.S.</li><li', 'data-value=\"\n",
      "http://edition.cnn.com\">International</li><li', 'data-value=\"\n",
      "http://arabic.cnn.com\">Arabic</li><li', 'data-value=\"\n",
      "http://cnnespanol.cnn.com/\">Espa\\xc3\\xb1ol</li></ul></div></div><div', 'href=\"\n",
      "http://www.turner.com\"', 'href=\"\n",
      "http://cnnnewsource.com\">CNN', 'doc.referrer.replace(/^\n",
      "http(?:s)?\\\\:\\\\/\\\\/([\\\\w\\\\-\\\\.]+).*$/i,']\n",
      "\n"
     ]
    }
   ],
   "source": [
    "### YOUR CODE GOES BELOW\n",
    "import urllib2\n",
    "import re\n",
    "\n",
    "#open file to manipulate data\n",
    "def openFileShedData():\n",
    "    with open('href.txt') as temfile:\n",
    "        for line in temfile:\n",
    "            mySearch=line.replace('http','\\nhttp')\n",
    "            if \"http\" in mySearch:\n",
    "                mySearch.split(\"com\", 1)[0]\n",
    "                print mySearch\n",
    "\n",
    "hrefFile = open(\"href.txt\", \"w\")\n",
    "#open source site then write to a file\n",
    "def readSite(): \n",
    "    for line in urllib2.urlopen('http://www.cnn.com/'):\n",
    "        mySearch = re.findall('\\S+http\\S+', line)\n",
    "        #rint hrefFile, mySearch\n",
    "        print >>  hrefFile, mySearch\n",
    "        hrefFile.close()               \n",
    "\n",
    "\n",
    "readSite()\n",
    "openFileShedData()\n",
    "### END CODE"
   ]
  },
  {
   "cell_type": "code",
   "execution_count": null,
   "metadata": {
    "collapsed": true
   },
   "outputs": [],
   "source": []
  },
  {
   "cell_type": "markdown",
   "metadata": {},
   "source": [
    "#### Exercise 8\n",
    "\n",
    "Write a Python program to use the Twitter library tweepy to retrieve a set of tweets from the internet.\n",
    "\n",
    "More information on how to do this can be found here\n",
    "\n",
    "http://docs.tweepy.org/en/v3.5.0/"
   ]
  },
  {
   "cell_type": "code",
   "execution_count": null,
   "metadata": {},
   "outputs": [],
   "source": [
    "### YOUR CODE GOES BELOW\n",
    "\n",
    "\n",
    "### END CODE"
   ]
  }
 ],
 "metadata": {
  "kernelspec": {
   "display_name": "Python 2",
   "language": "python",
   "name": "python2"
  },
  "language_info": {
   "codemirror_mode": {
    "name": "ipython",
    "version": 2
   },
   "file_extension": ".py",
   "mimetype": "text/x-python",
   "name": "python",
   "nbconvert_exporter": "python",
   "pygments_lexer": "ipython2",
   "version": "2.7.13"
  }
 },
 "nbformat": 4,
 "nbformat_minor": 2
}
