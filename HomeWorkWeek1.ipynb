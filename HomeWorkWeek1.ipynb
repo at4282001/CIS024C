{
 "cells": [
  {
   "cell_type": "code",
   "execution_count": null,
   "metadata": {
    "collapsed": true
   },
   "outputs": [],
   "source": [
    "# First program in python.\n",
    "Just print hello.\n",
    "https://github.com/cis024c/fall2017hw/blob/master/hw1/hw1.ipynb\n"
   ]
  },
  {
   "cell_type": "code",
   "execution_count": 34,
   "metadata": {},
   "outputs": [
    {
     "name": "stdout",
     "output_type": "stream",
     "text": [
      "hello\n"
     ]
    }
   ],
   "source": [
    "print \"hello\""
   ]
  },
  {
   "cell_type": "code",
   "execution_count": 29,
   "metadata": {},
   "outputs": [
    {
     "name": "stdout",
     "output_type": "stream",
     "text": [
      "30\n"
     ]
    }
   ],
   "source": [
    "x=10\n",
    "y=20\n",
    "z=x+y\n",
    "print z\n"
   ]
  },
  {
   "cell_type": "markdown",
   "metadata": {},
   "source": [
    "\n",
    "Exercise 3.1\n",
    "Create two variables a and b. Assign 5 to a and 6 to b. Display the result of a and b."
   ]
  },
  {
   "cell_type": "code",
   "execution_count": 30,
   "metadata": {},
   "outputs": [
    {
     "name": "stdout",
     "output_type": "stream",
     "text": [
      "a= 5 b= 6\n"
     ]
    }
   ],
   "source": [
    "a=5\n",
    "b=6\n",
    "print 'a=',a,  'b=',b"
   ]
  },
  {
   "cell_type": "markdown",
   "metadata": {},
   "source": [
    "\n",
    "Exercise 3.2\n",
    "Create a string variable called greeting. Assign the string \"Hello\" to this variable.\n",
    "Create another string variable called person. Assign the string \"Oscar\" to this variable"
   ]
  },
  {
   "cell_type": "code",
   "execution_count": 4,
   "metadata": {
    "collapsed": true
   },
   "outputs": [],
   "source": [
    "greeting = \"Hello\"\n",
    "person = \"Oscar\"\n"
   ]
  },
  {
   "cell_type": "markdown",
   "metadata": {},
   "source": [
    "\n",
    "Exercise 3.3\n",
    "Create a third variable called personalGreeting.\n",
    "Assign the sum of the two previously created variables greeting and person to personalGreeting.\n",
    "Display the result.\n",
    "Can you clean up the result so it look pretty?"
   ]
  },
  {
   "cell_type": "code",
   "execution_count": 5,
   "metadata": {},
   "outputs": [
    {
     "name": "stdout",
     "output_type": "stream",
     "text": [
      "Hello1 Oscar\n"
     ]
    }
   ],
   "source": [
    "greeting = \"Hello1\"\n",
    "person = \"Oscar\"\n",
    "personalGreeting = greeting + \" \" + person\n",
    "print personalGreeting\n"
   ]
  },
  {
   "cell_type": "markdown",
   "metadata": {},
   "source": [
    "\n",
    "Exercise 3.4\n",
    "Use the input utility to ask the user to enter his/her age."
   ]
  },
  {
   "cell_type": "code",
   "execution_count": 33,
   "metadata": {
    "scrolled": false
   },
   "outputs": [
    {
     "name": "stdout",
     "output_type": "stream",
     "text": [
      "Please enter your age: 35\n"
     ]
    }
   ],
   "source": [
    "age=input('Please enter your age: ')"
   ]
  },
  {
   "cell_type": "markdown",
   "metadata": {},
   "source": [
    "\n",
    "Exercise 3.5\n",
    "Use the input utility to ask the user to enter his/her age. Assign the response to a variable called age"
   ]
  },
  {
   "cell_type": "code",
   "execution_count": 1,
   "metadata": {},
   "outputs": [
    {
     "name": "stdout",
     "output_type": "stream",
     "text": [
      "Please enter your age: 36\n",
      "36\n"
     ]
    }
   ],
   "source": [
    "age=input('Please enter your age: ')\n",
    "print age"
   ]
  },
  {
   "cell_type": "markdown",
   "metadata": {},
   "source": [
    "Exercise 3.6¶\n",
    "Use the if statement to compare the value of age with 35."
   ]
  },
  {
   "cell_type": "code",
   "execution_count": 10,
   "metadata": {},
   "outputs": [
    {
     "name": "stdout",
     "output_type": "stream",
     "text": [
      "Please enter your age: 36\n",
      "The person age is more than 35\n"
     ]
    }
   ],
   "source": [
    "age=int(input('Please enter your age: '))\n",
    "if (age >= 35):\n",
    "    print 'The person age is more than 35'\n",
    "else:\n",
    "    print 'The person age is not 35'"
   ]
  },
  {
   "cell_type": "markdown",
   "metadata": {},
   "source": [
    "Exercise 3.7\n",
    "Use the if statement to compare the value of age with 35\n",
    "if the value of age is greater than 35, then display the string \"the age if greater than 35\". otherwise, display the string \"the age is not greater than 35\"\n",
    "Refer to class lecture slides on the if statement in case it is unclear how to use the if and the else statement."
   ]
  },
  {
   "cell_type": "code",
   "execution_count": 11,
   "metadata": {},
   "outputs": [
    {
     "name": "stdout",
     "output_type": "stream",
     "text": [
      "The age greater than 35\n"
     ]
    }
   ],
   "source": [
    "if age >= 35 :\n",
    "    print 'The age greater than 35'\n",
    "else:\n",
    "    print 'age is not greater than 35'    "
   ]
  },
  {
   "cell_type": "markdown",
   "metadata": {},
   "source": [
    "Exercise 3.8 - Integers\n",
    "Create an integer variable number and assign the value 10 to this number\n",
    "Divide the number by 4 using the / operator and display the result\n",
    "Divide the number by 4 usin the // operator (integer divide) and display the result\n",
    "Find the modulus of the number by 4 using the modulus operator % and display the result (example: newNumber = number%4)\n",
    "Notice the result and see if you can understand how they are different."
   ]
  },
  {
   "cell_type": "code",
   "execution_count": 19,
   "metadata": {},
   "outputs": [
    {
     "name": "stdout",
     "output_type": "stream",
     "text": [
      "y= 2\n",
      "z= 2\n",
      "t= 2\n"
     ]
    }
   ],
   "source": [
    "x= int(10)\n",
    "y= x/4\n",
    "print 'y=',y\n",
    "\n",
    "z= x//4\n",
    "print 'z=',z\n",
    "\n",
    "t= x%4\n",
    "print 't=',t"
   ]
  },
  {
   "cell_type": "markdown",
   "metadata": {},
   "source": [
    "\n",
    "Exercise 3.9 - Floats\n",
    "Create a floating variable number and assign the value 101.35 to it\n",
    "Divide the number by 4 using the / operator and display the result\n",
    "Divide the number by 4 usin the // operator (integer divide) and display the result\n",
    "Find the modulus of the number by 4 using the modulus operator % and display the result (example: newNumber = number%4)"
   ]
  },
  {
   "cell_type": "code",
   "execution_count": 1,
   "metadata": {},
   "outputs": [
    {
     "name": "stdout",
     "output_type": "stream",
     "text": [
      "y= 25.3375\n",
      "z= 25.0\n",
      "t= 1.35\n"
     ]
    }
   ],
   "source": [
    "x=101.35\n",
    "y= x/4\n",
    "print 'y=',y\n",
    "\n",
    "z= x//4\n",
    "print 'z=',z\n",
    "\n",
    "t= x%4\n",
    "print 't=',t\n"
   ]
  },
  {
   "cell_type": "markdown",
   "metadata": {},
   "source": [
    "\n",
    "Exercise 3.10 - Booleans\n",
    "Create an integer variable called myAge and assign the value 21 to it\n",
    "Create another integer variable called yourAge and assign the value 25 to it.\n",
    "Use the comparison operator \"==\" (double-equals) to compare the two variables. Assign the result of the compare to a new variable called result\n",
    "Display result.\n",
    "Create another integer variable called hisAge and assign the value 25 to it.\n",
    "Use the comparison operator \"==\" (double-equals) to compare the myAge with hisAge. Assign the result of the compare to result\n",
    "Display result"
   ]
  },
  {
   "cell_type": "code",
   "execution_count": 5,
   "metadata": {},
   "outputs": [
    {
     "name": "stdout",
     "output_type": "stream",
     "text": [
      "my age is not greater than your age\n",
      "\n",
      "\n",
      "2-my age is not greater than your age\n"
     ]
    }
   ],
   "source": [
    "# when 2 value equal then it print first statment. \n",
    "myAge = 21\n",
    "yourAge = 25\n",
    "if myAge == yourAge:\n",
    "    print 'Yes, your age as same as mine'\n",
    "else:\n",
    "    print 'my age is not greater than your age'\n",
    "  \n",
    "#Result as same as above\n",
    "hisAge = int(25)\n",
    "if myAge == hisAge:\n",
    "    print '2-Yes, your age as same as mine'\n",
    "else:\n",
    "    print '\\n\\n2-my age is not greater than your age'\n",
    "    "
   ]
  },
  {
   "cell_type": "code",
   "execution_count": 3,
   "metadata": {},
   "outputs": [
    {
     "name": "stdout",
     "output_type": "stream",
     "text": [
      "False\n"
     ]
    }
   ],
   "source": [
    "print myAge == yourAge\n"
   ]
  },
  {
   "cell_type": "code",
   "execution_count": 4,
   "metadata": {},
   "outputs": [
    {
     "name": "stdout",
     "output_type": "stream",
     "text": [
      "False\n"
     ]
    }
   ],
   "source": [
    "print myAge == hisAge\n"
   ]
  },
  {
   "cell_type": "code",
   "execution_count": 3,
   "metadata": {},
   "outputs": [
    {
     "name": "stderr",
     "output_type": "stream",
     "text": [
      "Python 2.7.13 :: Anaconda 4.4.0 (64-bit)\n"
     ]
    }
   ],
   "source": [
    "!python --version\n"
   ]
  },
  {
   "cell_type": "code",
   "execution_count": null,
   "metadata": {
    "collapsed": true
   },
   "outputs": [],
   "source": []
  },
  {
   "cell_type": "code",
   "execution_count": null,
   "metadata": {
    "collapsed": true
   },
   "outputs": [],
   "source": []
  }
 ],
 "metadata": {
  "celltoolbar": "Raw Cell Format",
  "kernelspec": {
   "display_name": "Python 2",
   "language": "python",
   "name": "python2"
  },
  "language_info": {
   "codemirror_mode": {
    "name": "ipython",
    "version": 2
   },
   "file_extension": ".py",
   "mimetype": "text/x-python",
   "name": "python",
   "nbconvert_exporter": "python",
   "pygments_lexer": "ipython2",
   "version": "2.7.13"
  },
  "widgets": {
   "application/vnd.jupyter.widget-state+json": {
    "state": {},
    "version_major": 1,
    "version_minor": 0
   }
  }
 },
 "nbformat": 4,
 "nbformat_minor": 2
}
